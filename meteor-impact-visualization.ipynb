{
 "cells": [
  {
   "cell_type": "code",
   "execution_count": 2,
   "id": "e1b934ff",
   "metadata": {},
   "outputs": [],
   "source": [
    "#imports for processing and graphing data\n",
    "\n",
    "import numpy as np\n",
    "import matplotlib.pyplot as plt\n",
    "import pandas as pd\n",
    "\n",
    "%matplotlib notebook"
   ]
  },
  {
   "cell_type": "code",
   "execution_count": 14,
   "id": "a8821f17",
   "metadata": {},
   "outputs": [
    {
     "name": "stdout",
     "output_type": "stream",
     "text": [
      "                            Object  Epoch (TDB)     TP (TDB)         e  \\\n",
      "0             P/2004 R1 (McNaught)        54629  2455248.548  0.682527   \n",
      "1    P/2008 S1 (Catalina-McNaught)        55101  2454741.329  0.666313   \n",
      "2                        1P/Halley        49400  2446467.395  0.967143   \n",
      "3                         2P/Encke        56870  2456618.204  0.848268   \n",
      "4                         3D/Biela        -9480  2390514.115  0.751299   \n",
      "..                             ...          ...          ...       ...   \n",
      "155           P/2014 U2 (Kowalski)        56974  2456937.650  0.602949   \n",
      "156          P/2015 A3 (PANSTARRS)        57040  2457076.250  0.848168   \n",
      "157               C/2015 D1 (SOHO)        57073  2457073.248  0.994268   \n",
      "158            C/2015 F2 (Polonia)        57110  2457141.343  0.962399   \n",
      "159      C/2015 F5 (SWAN-Xingming)        57124  2457109.599  0.977734   \n",
      "\n",
      "        i (deg)     w (deg)  Node (deg)    q (AU)  Q (AU)  P (yr)  MOID (AU)  \\\n",
      "0      4.894556    0.626838  295.985450  0.986192    5.23    5.48   0.027011   \n",
      "1     15.100746  203.649023  111.392003  1.190642    5.95    6.74   0.194101   \n",
      "2    162.262691  111.332485   58.420081  0.585978   35.08   75.32   0.063782   \n",
      "3     11.779995  186.540346  334.569806  0.336092    4.09    3.30   0.173092   \n",
      "4     13.216400  221.658800  250.669000  0.879073    6.19    6.65   0.000518   \n",
      "..          ...         ...         ...       ...     ...     ...        ...   \n",
      "155    7.495593   35.252210  356.180679  1.164298    4.70    5.02   0.183671   \n",
      "156  172.513745  249.508614  277.082142  1.153857   14.05   20.95   0.204591   \n",
      "157   69.616289  234.953017   95.881385  0.028321    9.85   10.98   0.515916   \n",
      "158   28.661030  352.058758  262.481614  1.209544   63.13  182.45   0.198704   \n",
      "159  149.256945   13.392330  287.739024  0.346005   30.73   61.26   0.441413   \n",
      "\n",
      "      A1 (AU/d^2)   A2 (AU/d^2)  A3 (AU/d^2)  DT (d)       ref  \\\n",
      "0             NaN           NaN          NaN     NaN        20   \n",
      "1             NaN           NaN          NaN     NaN        13   \n",
      "2    2.700000e-10  1.550000e-10          NaN     NaN   J863/77   \n",
      "3    1.580000e-10 -5.050000e-12          NaN     NaN        74   \n",
      "4    3.900000e-09 -2.540000e-10          NaN     NaN  IAUCAT03   \n",
      "..            ...           ...          ...     ...       ...   \n",
      "155           NaN           NaN          NaN     NaN        10   \n",
      "156           NaN           NaN          NaN     NaN         1   \n",
      "157  1.250000e-06           NaN          NaN     NaN         3   \n",
      "158           NaN           NaN          NaN     NaN         6   \n",
      "159           NaN           NaN          NaN     NaN         2   \n",
      "\n",
      "                       Object_name  \n",
      "0             P/2004 R1 (McNaught)  \n",
      "1    P/2008 S1 (Catalina-McNaught)  \n",
      "2                        1P/Halley  \n",
      "3                         2P/Encke  \n",
      "4                         3D/Biela  \n",
      "..                             ...  \n",
      "155           P/2014 U2 (Kowalski)  \n",
      "156          P/2015 A3 (PANSTARRS)  \n",
      "157               C/2015 D1 (SOHO)  \n",
      "158            C/2015 F2 (Polonia)  \n",
      "159      C/2015 F5 (SWAN-Xingming)  \n",
      "\n",
      "[160 rows x 17 columns]\n"
     ]
    }
   ],
   "source": [
    "#read csv file using pandas\n",
    "local_path_data = 'Near-Earth_Comets_-_Orbital_Elements.csv'\n",
    "data = pd.read_csv(local_path_data)\n",
    "print(data)"
   ]
  },
  {
   "cell_type": "code",
   "execution_count": null,
   "id": "40ce1a19",
   "metadata": {},
   "outputs": [],
   "source": []
  }
 ],
 "metadata": {
  "kernelspec": {
   "display_name": "Python 3 (ipykernel)",
   "language": "python",
   "name": "python3"
  },
  "language_info": {
   "codemirror_mode": {
    "name": "ipython",
    "version": 3
   },
   "file_extension": ".py",
   "mimetype": "text/x-python",
   "name": "python",
   "nbconvert_exporter": "python",
   "pygments_lexer": "ipython3",
   "version": "3.11.4"
  }
 },
 "nbformat": 4,
 "nbformat_minor": 5
}
